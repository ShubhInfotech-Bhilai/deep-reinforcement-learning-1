{
 "cells": [
  {
   "cell_type": "code",
   "execution_count": 2,
   "metadata": {},
   "outputs": [
    {
     "data": {
      "text/plain": [
       "'%.2f'"
      ]
     },
     "execution_count": 2,
     "metadata": {},
     "output_type": "execute_result"
    }
   ],
   "source": [
    "from __future__ import print_function, absolute_import, division\n",
    "\n",
    "import numpy as np\n",
    "import pandas as pd\n",
    "pd.set_option(\"max_columns\", None)\n",
    "import matplotlib\n",
    "from matplotlib import pyplot as plt\n",
    "#import seaborn as sns\n",
    "%precision 2\n",
    "\n",
    "import os\n",
    "import ast\n",
    "import csv\n",
    "import time\n",
    "import datetime\n",
    "import json\n",
    "import random\n",
    "import math\n",
    "from time import ctime\n",
    "\n",
    "import tensorflow as tf\n",
    "from tensorflow import keras\n",
    "from tensorflow.keras import Sequential\n",
    "from tensorflow.keras.layers import Dense, Dropout\n",
    "from tensorflow.keras.optimizers import Adam, RMSprop\n",
    "from tensorflow.keras.callbacks import ReduceLROnPlateau, EarlyStopping, ModelCheckpoint\n",
    "\n",
    "import gym\n",
    "\n",
    "from collections import namedtuple, deque\n",
    "\n",
    "from IPython.core.interactiveshell import InteractiveShell\n",
    "InteractiveShell.ast_node_interactivity = \"all\"\n",
    "\n",
    "is_ipython = \"inline\" in matplotlib.get_backend()\n",
    "if is_ipython:\n",
    "    from IPython import display"
   ]
  },
  {
   "cell_type": "code",
   "execution_count": 52,
   "metadata": {},
   "outputs": [],
   "source": [
    "class DQN:\n",
    "    def __init__(self, state_size, action_size):\n",
    "        self.state_size = state_size\n",
    "        self.action_size = action_size\n",
    "        self.gamma = 0.99\n",
    "        self.learning_rate = 0.001\n",
    "        self.epsilon = 1.0\n",
    "        self.epsilon_min = 0.05\n",
    "        self.epsilon_decay = (self.epsilon - self.epsilon_min) / 50000\n",
    "        self.batch_size = 64\n",
    "        self.memory = deque(maxlen=2000)\n",
    "        self.episodes = 1000\n",
    "        self.train_start = 1000\n",
    "        self.model = self.build_model()\n",
    "        self.target_model = self.build_model()\n",
    "        self.update_target_model()\n",
    "    \n",
    "    def build_model(self):\n",
    "        model = Sequential()\n",
    "        model.add(Dense(32, input_dim=self.state_size, activation=\"relu\", kernel_initializer=\"he_uniform\"))\n",
    "        model.add(Dense(16, activation=\"relu\", kernel_initializer=\"he_uniform\"))\n",
    "        model.add(Dense(self.action_size, activation=\"linear\", kernel_initializer=\"he_uniform\"))\n",
    "        model.compile(loss=\"mse\",optimizer=Adam(lr=self.learning_rate))\n",
    "        model.summary()\n",
    "        return model\n",
    "    \n",
    "    def act(self, state):\n",
    "        if self.epsilon<np.random.rand():\n",
    "            return np.random.choice(np.arange(self.action_size))\n",
    "        else:\n",
    "            act_values = self.model.predict(state)\n",
    "            return np.argmax(act_values[0])\n",
    "    \n",
    "    def remember(self,state, action, reward, next_state, done):\n",
    "        if action == 2:\n",
    "            action = 1\n",
    "        self.memory.append((state, action, reward, next_state, done))\n",
    "        if self.epsilon > self.epsilon_min:\n",
    "            self.epsilon -= self.epsilon_decay\n",
    "    \n",
    "    def replay(self):\n",
    "        if len(self.memory)<self.train_start:\n",
    "            return\n",
    "        batch_size = min(len(self.memory),self.batch_size)\n",
    "        mini_batch = random.sample(self.memory, batch_size)\n",
    "        update_input = np.zeros((batch_size, self.state_size))\n",
    "        update_target = np.zeros((batch_size, self.state_size))\n",
    "        for i in range(batch_size):\n",
    "            state, action, reward, next_state, done = mini_batch[i]\n",
    "            target = self.model.predict(state)[0]\n",
    "            if done:\n",
    "                target[action] = reward\n",
    "            else:\n",
    "                target[action] = reward + self.gamma* np.amax(self.target_model.predict(next_state)[0])\n",
    "            update_input[i] = state\n",
    "            update_target[i] = target\n",
    "        self.model.fit(update_input, update_target, batch_size=batch_size, epochs=1, verbose=0)\n",
    "    \n",
    "    def load_model(self, name):\n",
    "        self.model.load_weights(name)\n",
    "    \n",
    "    def save_model(self, name):\n",
    "        self.model.save_weights(name)\n",
    "    \n",
    "    def update_target_model(self):\n",
    "        self.target_model.set_weights(self.model.get_weights())"
   ]
  },
  {
   "cell_type": "code",
   "execution_count": null,
   "metadata": {},
   "outputs": [
    {
     "name": "stderr",
     "output_type": "stream",
     "text": [
      "I0506 22:19:35.848170 140423791109952 registration.py:117] Making new env: MountainCar-v0\n",
      "[2019-05-06 22:19:35,848] Making new env: MountainCar-v0\n"
     ]
    },
    {
     "name": "stdout",
     "output_type": "stream",
     "text": [
      "Model: \"sequential_16\"\n",
      "_________________________________________________________________\n",
      "Layer (type)                 Output Shape              Param #   \n",
      "=================================================================\n",
      "dense_48 (Dense)             (None, 32)                96        \n",
      "_________________________________________________________________\n",
      "dense_49 (Dense)             (None, 16)                528       \n",
      "_________________________________________________________________\n",
      "dense_50 (Dense)             (None, 2)                 34        \n",
      "=================================================================\n",
      "Total params: 658\n",
      "Trainable params: 658\n",
      "Non-trainable params: 0\n",
      "_________________________________________________________________\n",
      "Model: \"sequential_17\"\n",
      "_________________________________________________________________\n",
      "Layer (type)                 Output Shape              Param #   \n",
      "=================================================================\n",
      "dense_51 (Dense)             (None, 32)                96        \n",
      "_________________________________________________________________\n",
      "dense_52 (Dense)             (None, 16)                528       \n",
      "_________________________________________________________________\n",
      "dense_53 (Dense)             (None, 2)                 34        \n",
      "=================================================================\n",
      "Total params: 658\n",
      "Trainable params: 658\n",
      "Non-trainable params: 0\n",
      "_________________________________________________________________\n",
      "[[-0.4  0. ]]\n"
     ]
    },
    {
     "data": {
      "text/plain": [
       "array([-0.5,  0. ])"
      ]
     },
     "execution_count": 54,
     "metadata": {},
     "output_type": "execute_result"
    },
    {
     "name": "stdout",
     "output_type": "stream",
     "text": [
      "episode: 0   score: -200.0   memory length: 200   epsilon: 0.9962000000000018\n",
      "[[-0.6  0. ]]\n"
     ]
    },
    {
     "data": {
      "text/plain": [
       "array([-0.55,  0.  ])"
      ]
     },
     "execution_count": 54,
     "metadata": {},
     "output_type": "execute_result"
    },
    {
     "name": "stdout",
     "output_type": "stream",
     "text": [
      "episode: 1   score: -200.0   memory length: 400   epsilon: 0.9924000000000035\n",
      "[[-0.58  0.  ]]\n"
     ]
    },
    {
     "data": {
      "text/plain": [
       "array([-0.59,  0.  ])"
      ]
     },
     "execution_count": 54,
     "metadata": {},
     "output_type": "execute_result"
    },
    {
     "name": "stdout",
     "output_type": "stream",
     "text": [
      "episode: 2   score: -200.0   memory length: 600   epsilon: 0.9886000000000053\n",
      "[[-0.49  0.  ]]\n"
     ]
    },
    {
     "data": {
      "text/plain": [
       "array([-0.58,  0.  ])"
      ]
     },
     "execution_count": 54,
     "metadata": {},
     "output_type": "execute_result"
    },
    {
     "name": "stdout",
     "output_type": "stream",
     "text": [
      "episode: 3   score: -200.0   memory length: 800   epsilon: 0.984800000000007\n",
      "[[-0.58  0.  ]]\n"
     ]
    },
    {
     "data": {
      "text/plain": [
       "array([-0.4,  0. ])"
      ]
     },
     "execution_count": 54,
     "metadata": {},
     "output_type": "execute_result"
    },
    {
     "name": "stdout",
     "output_type": "stream",
     "text": [
      "episode: 4   score: -200.0   memory length: 1000   epsilon: 0.9810000000000088\n",
      "[[-0.43  0.  ]]\n"
     ]
    },
    {
     "data": {
      "text/plain": [
       "array([-0.5,  0. ])"
      ]
     },
     "execution_count": 54,
     "metadata": {},
     "output_type": "execute_result"
    },
    {
     "name": "stdout",
     "output_type": "stream",
     "text": [
      "episode: 5   score: -200.0   memory length: 1200   epsilon: 0.9772000000000105\n",
      "[[-0.54  0.  ]]\n"
     ]
    },
    {
     "data": {
      "text/plain": [
       "array([-0.5,  0. ])"
      ]
     },
     "execution_count": 54,
     "metadata": {},
     "output_type": "execute_result"
    },
    {
     "name": "stdout",
     "output_type": "stream",
     "text": [
      "episode: 6   score: -200.0   memory length: 1400   epsilon: 0.9734000000000123\n",
      "[[-0.4  0. ]]\n"
     ]
    },
    {
     "data": {
      "text/plain": [
       "array([-0.55,  0.  ])"
      ]
     },
     "execution_count": 54,
     "metadata": {},
     "output_type": "execute_result"
    },
    {
     "name": "stdout",
     "output_type": "stream",
     "text": [
      "episode: 7   score: -200.0   memory length: 1600   epsilon: 0.969600000000014\n",
      "[[-0.51  0.  ]]\n"
     ]
    },
    {
     "data": {
      "text/plain": [
       "array([-0.56,  0.  ])"
      ]
     },
     "execution_count": 54,
     "metadata": {},
     "output_type": "execute_result"
    },
    {
     "name": "stdout",
     "output_type": "stream",
     "text": [
      "episode: 8   score: -200.0   memory length: 1800   epsilon: 0.9658000000000158\n",
      "[[-0.57  0.  ]]\n"
     ]
    },
    {
     "data": {
      "text/plain": [
       "array([-0.41,  0.  ])"
      ]
     },
     "execution_count": 54,
     "metadata": {},
     "output_type": "execute_result"
    },
    {
     "name": "stdout",
     "output_type": "stream",
     "text": [
      "episode: 9   score: -200.0   memory length: 2000   epsilon: 0.9620000000000175\n",
      "[[-0.54  0.  ]]\n"
     ]
    },
    {
     "data": {
      "text/plain": [
       "array([-0.41,  0.  ])"
      ]
     },
     "execution_count": 54,
     "metadata": {},
     "output_type": "execute_result"
    },
    {
     "name": "stdout",
     "output_type": "stream",
     "text": [
      "episode: 10   score: -200.0   memory length: 2000   epsilon: 0.9582000000000193\n",
      "[[-0.41  0.  ]]\n"
     ]
    },
    {
     "data": {
      "text/plain": [
       "array([-0.54,  0.  ])"
      ]
     },
     "execution_count": 54,
     "metadata": {},
     "output_type": "execute_result"
    },
    {
     "name": "stdout",
     "output_type": "stream",
     "text": [
      "episode: 11   score: -200.0   memory length: 2000   epsilon: 0.954400000000021\n",
      "[[-0.42  0.  ]]\n"
     ]
    },
    {
     "data": {
      "text/plain": [
       "array([-0.45,  0.  ])"
      ]
     },
     "execution_count": 54,
     "metadata": {},
     "output_type": "execute_result"
    },
    {
     "name": "stdout",
     "output_type": "stream",
     "text": [
      "episode: 12   score: -200.0   memory length: 2000   epsilon: 0.9506000000000228\n",
      "[[-0.53  0.  ]]\n"
     ]
    },
    {
     "data": {
      "text/plain": [
       "array([-0.5,  0. ])"
      ]
     },
     "execution_count": 54,
     "metadata": {},
     "output_type": "execute_result"
    },
    {
     "name": "stdout",
     "output_type": "stream",
     "text": [
      "episode: 13   score: -200.0   memory length: 2000   epsilon: 0.9468000000000245\n",
      "[[-0.44  0.  ]]\n"
     ]
    },
    {
     "data": {
      "text/plain": [
       "array([-0.55,  0.  ])"
      ]
     },
     "execution_count": 54,
     "metadata": {},
     "output_type": "execute_result"
    },
    {
     "name": "stdout",
     "output_type": "stream",
     "text": [
      "episode: 14   score: -200.0   memory length: 2000   epsilon: 0.9430000000000263\n",
      "[[-0.53  0.  ]]\n"
     ]
    },
    {
     "data": {
      "text/plain": [
       "array([-0.43,  0.  ])"
      ]
     },
     "execution_count": 54,
     "metadata": {},
     "output_type": "execute_result"
    },
    {
     "name": "stdout",
     "output_type": "stream",
     "text": [
      "episode: 15   score: -200.0   memory length: 2000   epsilon: 0.939200000000028\n",
      "[[-0.51  0.  ]]\n"
     ]
    },
    {
     "data": {
      "text/plain": [
       "array([-0.52,  0.  ])"
      ]
     },
     "execution_count": 54,
     "metadata": {},
     "output_type": "execute_result"
    },
    {
     "name": "stdout",
     "output_type": "stream",
     "text": [
      "episode: 16   score: -200.0   memory length: 2000   epsilon: 0.9354000000000298\n",
      "[[-0.52  0.  ]]\n"
     ]
    },
    {
     "data": {
      "text/plain": [
       "array([-0.57,  0.  ])"
      ]
     },
     "execution_count": 54,
     "metadata": {},
     "output_type": "execute_result"
    },
    {
     "name": "stdout",
     "output_type": "stream",
     "text": [
      "episode: 17   score: -200.0   memory length: 2000   epsilon: 0.9316000000000315\n",
      "[[-0.46  0.  ]]\n"
     ]
    },
    {
     "data": {
      "text/plain": [
       "array([-0.46,  0.  ])"
      ]
     },
     "execution_count": 54,
     "metadata": {},
     "output_type": "execute_result"
    },
    {
     "name": "stdout",
     "output_type": "stream",
     "text": [
      "episode: 18   score: -200.0   memory length: 2000   epsilon: 0.9278000000000333\n",
      "[[-0.58  0.  ]]\n"
     ]
    },
    {
     "data": {
      "text/plain": [
       "array([-0.54,  0.  ])"
      ]
     },
     "execution_count": 54,
     "metadata": {},
     "output_type": "execute_result"
    },
    {
     "name": "stdout",
     "output_type": "stream",
     "text": [
      "episode: 19   score: -200.0   memory length: 2000   epsilon: 0.924000000000035\n",
      "[[-0.47  0.  ]]\n"
     ]
    },
    {
     "data": {
      "text/plain": [
       "array([-0.58,  0.  ])"
      ]
     },
     "execution_count": 54,
     "metadata": {},
     "output_type": "execute_result"
    },
    {
     "name": "stdout",
     "output_type": "stream",
     "text": [
      "episode: 20   score: -200.0   memory length: 2000   epsilon: 0.9202000000000368\n",
      "[[-0.49  0.  ]]\n"
     ]
    },
    {
     "data": {
      "text/plain": [
       "array([-0.51,  0.  ])"
      ]
     },
     "execution_count": 54,
     "metadata": {},
     "output_type": "execute_result"
    },
    {
     "name": "stdout",
     "output_type": "stream",
     "text": [
      "episode: 21   score: -200.0   memory length: 2000   epsilon: 0.9164000000000385\n",
      "[[-0.53  0.  ]]\n"
     ]
    },
    {
     "data": {
      "text/plain": [
       "array([-0.53,  0.  ])"
      ]
     },
     "execution_count": 54,
     "metadata": {},
     "output_type": "execute_result"
    },
    {
     "name": "stdout",
     "output_type": "stream",
     "text": [
      "episode: 22   score: -200.0   memory length: 2000   epsilon: 0.9126000000000403\n",
      "[[-0.49  0.  ]]\n"
     ]
    },
    {
     "data": {
      "text/plain": [
       "array([-0.46,  0.  ])"
      ]
     },
     "execution_count": 54,
     "metadata": {},
     "output_type": "execute_result"
    },
    {
     "name": "stdout",
     "output_type": "stream",
     "text": [
      "episode: 23   score: -200.0   memory length: 2000   epsilon: 0.908800000000042\n",
      "[[-0.43  0.  ]]\n"
     ]
    },
    {
     "data": {
      "text/plain": [
       "array([-0.51,  0.  ])"
      ]
     },
     "execution_count": 54,
     "metadata": {},
     "output_type": "execute_result"
    },
    {
     "name": "stdout",
     "output_type": "stream",
     "text": [
      "episode: 24   score: -200.0   memory length: 2000   epsilon: 0.9050000000000438\n",
      "[[-0.56  0.  ]]\n"
     ]
    },
    {
     "data": {
      "text/plain": [
       "array([-0.5,  0. ])"
      ]
     },
     "execution_count": 54,
     "metadata": {},
     "output_type": "execute_result"
    },
    {
     "name": "stdout",
     "output_type": "stream",
     "text": [
      "episode: 25   score: -200.0   memory length: 2000   epsilon: 0.9012000000000455\n",
      "[[-0.42  0.  ]]\n"
     ]
    },
    {
     "data": {
      "text/plain": [
       "array([-0.4,  0. ])"
      ]
     },
     "execution_count": 54,
     "metadata": {},
     "output_type": "execute_result"
    },
    {
     "name": "stdout",
     "output_type": "stream",
     "text": [
      "episode: 26   score: -200.0   memory length: 2000   epsilon: 0.8974000000000473\n",
      "[[-0.6  0. ]]\n"
     ]
    },
    {
     "data": {
      "text/plain": [
       "array([-0.59,  0.  ])"
      ]
     },
     "execution_count": 54,
     "metadata": {},
     "output_type": "execute_result"
    },
    {
     "name": "stdout",
     "output_type": "stream",
     "text": [
      "episode: 27   score: -200.0   memory length: 2000   epsilon: 0.893600000000049\n",
      "[[-0.54  0.  ]]\n"
     ]
    },
    {
     "data": {
      "text/plain": [
       "array([-0.51,  0.  ])"
      ]
     },
     "execution_count": 54,
     "metadata": {},
     "output_type": "execute_result"
    },
    {
     "name": "stdout",
     "output_type": "stream",
     "text": [
      "episode: 28   score: -200.0   memory length: 2000   epsilon: 0.8898000000000508\n",
      "[[-0.4  0. ]]\n"
     ]
    },
    {
     "data": {
      "text/plain": [
       "array([-0.49,  0.  ])"
      ]
     },
     "execution_count": 54,
     "metadata": {},
     "output_type": "execute_result"
    },
    {
     "name": "stdout",
     "output_type": "stream",
     "text": [
      "episode: 29   score: -189.0   memory length: 2000   epsilon: 0.8862090000000524\n",
      "[[-0.59  0.  ]]\n"
     ]
    },
    {
     "data": {
      "text/plain": [
       "array([-0.45,  0.  ])"
      ]
     },
     "execution_count": 54,
     "metadata": {},
     "output_type": "execute_result"
    },
    {
     "name": "stdout",
     "output_type": "stream",
     "text": [
      "episode: 30   score: -200.0   memory length: 2000   epsilon: 0.8824090000000542\n",
      "[[-0.49  0.  ]]\n"
     ]
    },
    {
     "data": {
      "text/plain": [
       "array([-0.53,  0.  ])"
      ]
     },
     "execution_count": 54,
     "metadata": {},
     "output_type": "execute_result"
    },
    {
     "name": "stdout",
     "output_type": "stream",
     "text": [
      "episode: 31   score: -200.0   memory length: 2000   epsilon: 0.8786090000000559\n",
      "[[-0.45  0.  ]]\n"
     ]
    },
    {
     "data": {
      "text/plain": [
       "array([-0.58,  0.  ])"
      ]
     },
     "execution_count": 54,
     "metadata": {},
     "output_type": "execute_result"
    },
    {
     "name": "stdout",
     "output_type": "stream",
     "text": [
      "episode: 32   score: -200.0   memory length: 2000   epsilon: 0.8748090000000577\n",
      "[[-0.45  0.  ]]\n"
     ]
    },
    {
     "data": {
      "text/plain": [
       "array([-0.59,  0.  ])"
      ]
     },
     "execution_count": 54,
     "metadata": {},
     "output_type": "execute_result"
    },
    {
     "name": "stdout",
     "output_type": "stream",
     "text": [
      "episode: 33   score: -200.0   memory length: 2000   epsilon: 0.8710090000000594\n",
      "[[-0.4  0. ]]\n"
     ]
    },
    {
     "data": {
      "text/plain": [
       "array([-0.55,  0.  ])"
      ]
     },
     "execution_count": 54,
     "metadata": {},
     "output_type": "execute_result"
    },
    {
     "name": "stdout",
     "output_type": "stream",
     "text": [
      "episode: 34   score: -200.0   memory length: 2000   epsilon: 0.8672090000000612\n",
      "[[-0.4  0. ]]\n"
     ]
    },
    {
     "data": {
      "text/plain": [
       "array([-0.46,  0.  ])"
      ]
     },
     "execution_count": 54,
     "metadata": {},
     "output_type": "execute_result"
    },
    {
     "name": "stdout",
     "output_type": "stream",
     "text": [
      "episode: 35   score: -200.0   memory length: 2000   epsilon: 0.8634090000000629\n",
      "[[-0.52  0.  ]]\n"
     ]
    },
    {
     "data": {
      "text/plain": [
       "array([-0.56,  0.  ])"
      ]
     },
     "execution_count": 54,
     "metadata": {},
     "output_type": "execute_result"
    },
    {
     "name": "stdout",
     "output_type": "stream",
     "text": [
      "episode: 36   score: -200.0   memory length: 2000   epsilon: 0.8596090000000647\n",
      "[[-0.41  0.  ]]\n"
     ]
    },
    {
     "data": {
      "text/plain": [
       "array([-0.43,  0.  ])"
      ]
     },
     "execution_count": 54,
     "metadata": {},
     "output_type": "execute_result"
    },
    {
     "name": "stdout",
     "output_type": "stream",
     "text": [
      "episode: 37   score: -200.0   memory length: 2000   epsilon: 0.8558090000000664\n",
      "[[-0.51  0.  ]]\n"
     ]
    },
    {
     "data": {
      "text/plain": [
       "array([-0.57,  0.  ])"
      ]
     },
     "execution_count": 54,
     "metadata": {},
     "output_type": "execute_result"
    },
    {
     "name": "stdout",
     "output_type": "stream",
     "text": [
      "episode: 38   score: -200.0   memory length: 2000   epsilon: 0.8520090000000682\n",
      "[[-0.44  0.  ]]\n"
     ]
    },
    {
     "data": {
      "text/plain": [
       "array([-0.57,  0.  ])"
      ]
     },
     "execution_count": 54,
     "metadata": {},
     "output_type": "execute_result"
    },
    {
     "name": "stdout",
     "output_type": "stream",
     "text": [
      "episode: 39   score: -200.0   memory length: 2000   epsilon: 0.8482090000000699\n",
      "[[-0.46  0.  ]]\n"
     ]
    },
    {
     "data": {
      "text/plain": [
       "array([-0.54,  0.  ])"
      ]
     },
     "execution_count": 54,
     "metadata": {},
     "output_type": "execute_result"
    },
    {
     "name": "stdout",
     "output_type": "stream",
     "text": [
      "episode: 40   score: -200.0   memory length: 2000   epsilon: 0.8444090000000717\n",
      "[[-0.53  0.  ]]\n"
     ]
    },
    {
     "data": {
      "text/plain": [
       "array([-0.53,  0.  ])"
      ]
     },
     "execution_count": 54,
     "metadata": {},
     "output_type": "execute_result"
    },
    {
     "name": "stdout",
     "output_type": "stream",
     "text": [
      "episode: 41   score: -200.0   memory length: 2000   epsilon: 0.8406090000000734\n",
      "[[-0.52  0.  ]]\n"
     ]
    },
    {
     "data": {
      "text/plain": [
       "array([-0.43,  0.  ])"
      ]
     },
     "execution_count": 54,
     "metadata": {},
     "output_type": "execute_result"
    },
    {
     "name": "stdout",
     "output_type": "stream",
     "text": [
      "episode: 42   score: -200.0   memory length: 2000   epsilon: 0.8368090000000752\n",
      "[[-0.57  0.  ]]\n"
     ]
    },
    {
     "data": {
      "text/plain": [
       "array([-0.46,  0.  ])"
      ]
     },
     "execution_count": 54,
     "metadata": {},
     "output_type": "execute_result"
    },
    {
     "name": "stdout",
     "output_type": "stream",
     "text": [
      "episode: 43   score: -200.0   memory length: 2000   epsilon: 0.8330090000000769\n",
      "[[-0.58  0.  ]]\n"
     ]
    },
    {
     "data": {
      "text/plain": [
       "array([-0.6,  0. ])"
      ]
     },
     "execution_count": 54,
     "metadata": {},
     "output_type": "execute_result"
    },
    {
     "name": "stdout",
     "output_type": "stream",
     "text": [
      "episode: 44   score: -200.0   memory length: 2000   epsilon: 0.8292090000000787\n",
      "[[-0.44  0.  ]]\n"
     ]
    },
    {
     "data": {
      "text/plain": [
       "array([-0.54,  0.  ])"
      ]
     },
     "execution_count": 54,
     "metadata": {},
     "output_type": "execute_result"
    },
    {
     "name": "stdout",
     "output_type": "stream",
     "text": [
      "episode: 45   score: -200.0   memory length: 2000   epsilon: 0.8254090000000804\n",
      "[[-0.53  0.  ]]\n"
     ]
    },
    {
     "data": {
      "text/plain": [
       "array([-0.6,  0. ])"
      ]
     },
     "execution_count": 54,
     "metadata": {},
     "output_type": "execute_result"
    },
    {
     "name": "stdout",
     "output_type": "stream",
     "text": [
      "episode: 46   score: -200.0   memory length: 2000   epsilon: 0.8216090000000822\n",
      "[[-0.57  0.  ]]\n"
     ]
    },
    {
     "data": {
      "text/plain": [
       "array([-0.45,  0.  ])"
      ]
     },
     "execution_count": 54,
     "metadata": {},
     "output_type": "execute_result"
    },
    {
     "name": "stdout",
     "output_type": "stream",
     "text": [
      "episode: 47   score: -200.0   memory length: 2000   epsilon: 0.8178090000000839\n",
      "[[-0.54  0.  ]]\n"
     ]
    },
    {
     "data": {
      "text/plain": [
       "array([-0.52,  0.  ])"
      ]
     },
     "execution_count": 54,
     "metadata": {},
     "output_type": "execute_result"
    },
    {
     "name": "stdout",
     "output_type": "stream",
     "text": [
      "episode: 48   score: -200.0   memory length: 2000   epsilon: 0.8140090000000857\n",
      "[[-0.58  0.  ]]\n"
     ]
    },
    {
     "data": {
      "text/plain": [
       "array([-0.43,  0.  ])"
      ]
     },
     "execution_count": 54,
     "metadata": {},
     "output_type": "execute_result"
    },
    {
     "name": "stdout",
     "output_type": "stream",
     "text": [
      "episode: 49   score: -200.0   memory length: 2000   epsilon: 0.8102090000000874\n",
      "[[-0.41  0.  ]]\n"
     ]
    },
    {
     "data": {
      "text/plain": [
       "array([-0.59,  0.  ])"
      ]
     },
     "execution_count": 54,
     "metadata": {},
     "output_type": "execute_result"
    },
    {
     "name": "stdout",
     "output_type": "stream",
     "text": [
      "episode: 50   score: -200.0   memory length: 2000   epsilon: 0.8064090000000892\n",
      "[[-0.48  0.  ]]\n"
     ]
    },
    {
     "data": {
      "text/plain": [
       "array([-0.56,  0.  ])"
      ]
     },
     "execution_count": 54,
     "metadata": {},
     "output_type": "execute_result"
    },
    {
     "name": "stdout",
     "output_type": "stream",
     "text": [
      "episode: 51   score: -200.0   memory length: 2000   epsilon: 0.8026090000000909\n",
      "[[-0.59  0.  ]]\n"
     ]
    },
    {
     "data": {
      "text/plain": [
       "array([-0.56,  0.  ])"
      ]
     },
     "execution_count": 54,
     "metadata": {},
     "output_type": "execute_result"
    },
    {
     "name": "stdout",
     "output_type": "stream",
     "text": [
      "episode: 52   score: -200.0   memory length: 2000   epsilon: 0.7988090000000927\n",
      "[[-0.55  0.  ]]\n"
     ]
    },
    {
     "data": {
      "text/plain": [
       "array([-0.55,  0.  ])"
      ]
     },
     "execution_count": 54,
     "metadata": {},
     "output_type": "execute_result"
    },
    {
     "name": "stdout",
     "output_type": "stream",
     "text": [
      "episode: 53   score: -200.0   memory length: 2000   epsilon: 0.7950090000000944\n",
      "[[-0.5  0. ]]\n"
     ]
    },
    {
     "data": {
      "text/plain": [
       "array([-0.52,  0.  ])"
      ]
     },
     "execution_count": 54,
     "metadata": {},
     "output_type": "execute_result"
    },
    {
     "name": "stdout",
     "output_type": "stream",
     "text": [
      "episode: 54   score: -200.0   memory length: 2000   epsilon: 0.7912090000000962\n",
      "[[-0.47  0.  ]]\n"
     ]
    },
    {
     "data": {
      "text/plain": [
       "array([-0.47,  0.  ])"
      ]
     },
     "execution_count": 54,
     "metadata": {},
     "output_type": "execute_result"
    },
    {
     "name": "stdout",
     "output_type": "stream",
     "text": [
      "episode: 55   score: -200.0   memory length: 2000   epsilon: 0.787409000000098\n",
      "[[-0.44  0.  ]]\n"
     ]
    },
    {
     "data": {
      "text/plain": [
       "array([-0.54,  0.  ])"
      ]
     },
     "execution_count": 54,
     "metadata": {},
     "output_type": "execute_result"
    },
    {
     "name": "stdout",
     "output_type": "stream",
     "text": [
      "episode: 56   score: -200.0   memory length: 2000   epsilon: 0.7836090000000997\n",
      "[[-0.53  0.  ]]\n"
     ]
    },
    {
     "data": {
      "text/plain": [
       "array([-0.57,  0.  ])"
      ]
     },
     "execution_count": 54,
     "metadata": {},
     "output_type": "execute_result"
    },
    {
     "name": "stdout",
     "output_type": "stream",
     "text": [
      "episode: 57   score: -200.0   memory length: 2000   epsilon: 0.7798090000001014\n",
      "[[-0.48  0.  ]]\n"
     ]
    },
    {
     "data": {
      "text/plain": [
       "array([-0.51,  0.  ])"
      ]
     },
     "execution_count": 54,
     "metadata": {},
     "output_type": "execute_result"
    },
    {
     "name": "stdout",
     "output_type": "stream",
     "text": [
      "episode: 58   score: -170.0   memory length: 2000   epsilon: 0.7765790000001029\n",
      "[[-0.45  0.  ]]\n"
     ]
    },
    {
     "data": {
      "text/plain": [
       "array([-0.49,  0.  ])"
      ]
     },
     "execution_count": 54,
     "metadata": {},
     "output_type": "execute_result"
    },
    {
     "name": "stdout",
     "output_type": "stream",
     "text": [
      "episode: 59   score: -200.0   memory length: 2000   epsilon: 0.7727790000001047\n",
      "[[-0.47  0.  ]]\n"
     ]
    },
    {
     "data": {
      "text/plain": [
       "array([-0.52,  0.  ])"
      ]
     },
     "execution_count": 54,
     "metadata": {},
     "output_type": "execute_result"
    },
    {
     "name": "stdout",
     "output_type": "stream",
     "text": [
      "episode: 60   score: -200.0   memory length: 2000   epsilon: 0.7689790000001064\n",
      "[[-0.4  0. ]]\n"
     ]
    },
    {
     "data": {
      "text/plain": [
       "array([-0.54,  0.  ])"
      ]
     },
     "execution_count": 54,
     "metadata": {},
     "output_type": "execute_result"
    },
    {
     "name": "stdout",
     "output_type": "stream",
     "text": [
      "episode: 61   score: -200.0   memory length: 2000   epsilon: 0.7651790000001082\n",
      "[[-0.47  0.  ]]\n"
     ]
    },
    {
     "data": {
      "text/plain": [
       "array([-0.58,  0.  ])"
      ]
     },
     "execution_count": 54,
     "metadata": {},
     "output_type": "execute_result"
    },
    {
     "name": "stdout",
     "output_type": "stream",
     "text": [
      "episode: 62   score: -200.0   memory length: 2000   epsilon: 0.7613790000001099\n",
      "[[-0.47  0.  ]]\n"
     ]
    },
    {
     "data": {
      "text/plain": [
       "array([-0.54,  0.  ])"
      ]
     },
     "execution_count": 54,
     "metadata": {},
     "output_type": "execute_result"
    },
    {
     "name": "stdout",
     "output_type": "stream",
     "text": [
      "episode: 63   score: -200.0   memory length: 2000   epsilon: 0.7575790000001117\n",
      "[[-0.51  0.  ]]\n"
     ]
    },
    {
     "data": {
      "text/plain": [
       "array([-0.57,  0.  ])"
      ]
     },
     "execution_count": 54,
     "metadata": {},
     "output_type": "execute_result"
    },
    {
     "name": "stdout",
     "output_type": "stream",
     "text": [
      "episode: 64   score: -200.0   memory length: 2000   epsilon: 0.7537790000001134\n",
      "[[-0.42  0.  ]]\n"
     ]
    },
    {
     "data": {
      "text/plain": [
       "array([-0.47,  0.  ])"
      ]
     },
     "execution_count": 54,
     "metadata": {},
     "output_type": "execute_result"
    },
    {
     "name": "stdout",
     "output_type": "stream",
     "text": [
      "episode: 65   score: -200.0   memory length: 2000   epsilon: 0.7499790000001152\n",
      "[[-0.53  0.  ]]\n"
     ]
    },
    {
     "data": {
      "text/plain": [
       "array([-0.55,  0.  ])"
      ]
     },
     "execution_count": 54,
     "metadata": {},
     "output_type": "execute_result"
    },
    {
     "name": "stdout",
     "output_type": "stream",
     "text": [
      "episode: 66   score: -200.0   memory length: 2000   epsilon: 0.7461790000001169\n",
      "[[-0.41  0.  ]]\n"
     ]
    },
    {
     "data": {
      "text/plain": [
       "array([-0.56,  0.  ])"
      ]
     },
     "execution_count": 54,
     "metadata": {},
     "output_type": "execute_result"
    },
    {
     "name": "stdout",
     "output_type": "stream",
     "text": [
      "episode: 67   score: -200.0   memory length: 2000   epsilon: 0.7423790000001187\n",
      "[[-0.47  0.  ]]\n"
     ]
    },
    {
     "data": {
      "text/plain": [
       "array([-0.53,  0.  ])"
      ]
     },
     "execution_count": 54,
     "metadata": {},
     "output_type": "execute_result"
    },
    {
     "name": "stdout",
     "output_type": "stream",
     "text": [
      "episode: 68   score: -200.0   memory length: 2000   epsilon: 0.7385790000001204\n",
      "[[-0.58  0.  ]]\n"
     ]
    },
    {
     "data": {
      "text/plain": [
       "array([-0.49,  0.  ])"
      ]
     },
     "execution_count": 54,
     "metadata": {},
     "output_type": "execute_result"
    },
    {
     "name": "stdout",
     "output_type": "stream",
     "text": [
      "episode: 69   score: -200.0   memory length: 2000   epsilon: 0.7347790000001222\n",
      "[[-0.57  0.  ]]\n"
     ]
    },
    {
     "data": {
      "text/plain": [
       "array([-0.53,  0.  ])"
      ]
     },
     "execution_count": 54,
     "metadata": {},
     "output_type": "execute_result"
    },
    {
     "name": "stdout",
     "output_type": "stream",
     "text": [
      "episode: 70   score: -200.0   memory length: 2000   epsilon: 0.730979000000124\n",
      "[[-0.6  0. ]]\n"
     ]
    },
    {
     "data": {
      "text/plain": [
       "array([-0.5,  0. ])"
      ]
     },
     "execution_count": 54,
     "metadata": {},
     "output_type": "execute_result"
    },
    {
     "name": "stdout",
     "output_type": "stream",
     "text": [
      "episode: 71   score: -200.0   memory length: 2000   epsilon: 0.7271790000001257\n",
      "[[-0.46  0.  ]]\n"
     ]
    },
    {
     "data": {
      "text/plain": [
       "array([-0.56,  0.  ])"
      ]
     },
     "execution_count": 54,
     "metadata": {},
     "output_type": "execute_result"
    },
    {
     "name": "stdout",
     "output_type": "stream",
     "text": [
      "episode: 72   score: -200.0   memory length: 2000   epsilon: 0.7233790000001274\n",
      "[[-0.55  0.  ]]\n"
     ]
    },
    {
     "data": {
      "text/plain": [
       "array([-0.5,  0. ])"
      ]
     },
     "execution_count": 54,
     "metadata": {},
     "output_type": "execute_result"
    },
    {
     "name": "stdout",
     "output_type": "stream",
     "text": [
      "episode: 73   score: -200.0   memory length: 2000   epsilon: 0.7195790000001292\n",
      "[[-0.56  0.  ]]\n"
     ]
    },
    {
     "data": {
      "text/plain": [
       "array([-0.46,  0.  ])"
      ]
     },
     "execution_count": 54,
     "metadata": {},
     "output_type": "execute_result"
    },
    {
     "name": "stdout",
     "output_type": "stream",
     "text": [
      "episode: 74   score: -200.0   memory length: 2000   epsilon: 0.715779000000131\n",
      "[[-0.48  0.  ]]\n"
     ]
    },
    {
     "data": {
      "text/plain": [
       "array([-0.55,  0.  ])"
      ]
     },
     "execution_count": 54,
     "metadata": {},
     "output_type": "execute_result"
    },
    {
     "name": "stdout",
     "output_type": "stream",
     "text": [
      "episode: 75   score: -200.0   memory length: 2000   epsilon: 0.7119790000001327\n",
      "[[-0.43  0.  ]]\n"
     ]
    }
   ],
   "source": [
    "if __name__ == \"__main__\":\n",
    "    env = gym.make('MountainCar-v0')\n",
    "    state_size = env.observation_space.shape[0]\n",
    "    action_size = 2\n",
    "    agent = DQN(state_size, action_size)\n",
    "    #agent.load_model(\"./save_model/MountainCar_DQN.h5\")\n",
    "    scores, episodes = [], []\n",
    "\n",
    "    for e in range(agent.episodes):\n",
    "        done = False\n",
    "        score = 0\n",
    "        state = env.reset()\n",
    "        state = np.reshape(state, [1, state_size])\n",
    "        print(state)\n",
    "        fake_action = 0\n",
    "        action_count = 0\n",
    "        while not done:\n",
    "#             if agent.render:\n",
    "#                 env.render()\n",
    "            action_count = action_count + 1\n",
    "            if action_count == 4:\n",
    "                action = agent.act(state)\n",
    "                action_count = 0\n",
    "                if action == 0:\n",
    "                    fake_action = 0\n",
    "                elif action == 1:\n",
    "                    fake_action = 2\n",
    "            #print(\"fake_action \",fake_action, \"action \", action)\n",
    "            next_state, reward, done, info = env.step(fake_action)\n",
    "            next_state = np.reshape(next_state, [1, state_size])\n",
    "            agent.remember(state, fake_action, reward, next_state, done)\n",
    "            agent.replay()\n",
    "            score += reward\n",
    "            state = next_state\n",
    "\n",
    "            if done:\n",
    "                env.reset()\n",
    "                agent.update_target_model()\n",
    "                scores.append(score)\n",
    "                episodes.append(e)\n",
    "                print(\"episode:\", e, \"  score:\", score, \"  memory length:\", len(agent.memory),\n",
    "                      \"  epsilon:\", agent.epsilon)\n",
    "#         if e % 50 == 0:\n",
    "#              agent.save_model(\"./save_model/MountainCar_DQN.h5\")\n"
   ]
  },
  {
   "cell_type": "code",
   "execution_count": null,
   "metadata": {},
   "outputs": [],
   "source": []
  },
  {
   "cell_type": "code",
   "execution_count": null,
   "metadata": {},
   "outputs": [],
   "source": []
  }
 ],
 "metadata": {
  "kernelspec": {
   "display_name": "drlnd",
   "language": "python",
   "name": "drlnd"
  },
  "language_info": {
   "codemirror_mode": {
    "name": "ipython",
    "version": 3
   },
   "file_extension": ".py",
   "mimetype": "text/x-python",
   "name": "python",
   "nbconvert_exporter": "python",
   "pygments_lexer": "ipython3",
   "version": "3.6.8"
  }
 },
 "nbformat": 4,
 "nbformat_minor": 2
}
